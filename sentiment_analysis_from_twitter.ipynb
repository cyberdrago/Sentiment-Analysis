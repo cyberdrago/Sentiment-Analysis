{
 "cells": [
  {
   "cell_type": "markdown",
   "metadata": {},
   "source": [
    "# Sentiment Analysis Using Twitter API\n",
    "here this code calculates the sentiments of the people in the range of [-1,1] regarding a subject which we need to give as an input, it uses Natural Language Processing library \"textblob\" to search the input word throughout the twitter, then the sentiment of people for that word is calculated"
   ]
  },
  {
   "cell_type": "code",
   "execution_count": 64,
   "metadata": {},
   "outputs": [],
   "source": [
    "import numpy as np\n",
    "import pandas as pd\n",
    "from sklearn import tree\n",
    "from sklearn.linear_model import LogisticRegression\n",
    "from textblob import TextBlob\n",
    "import tweepy\n",
    "import csv\n",
    "import sys\n",
    "import matplotlib.pyplot as plt\n",
    "from collections import Counter"
   ]
  },
  {
   "cell_type": "code",
   "execution_count": 65,
   "metadata": {},
   "outputs": [],
   "source": [
    "if sys.version_info[0] < 3:\n",
    "   input = raw_input"
   ]
  },
  {
   "cell_type": "markdown",
   "metadata": {},
   "source": [
    "#### All the keys below mentioned can be easily obtained by registering for the twitter application management which is important for the authentication of the user account"
   ]
  },
  {
   "cell_type": "code",
   "execution_count": 66,
   "metadata": {
    "collapsed": true
   },
   "outputs": [],
   "source": [
    "\n",
    "consumer_key= 'eY9imkbyZivrCgytgWWwpio5n'\n",
    "consumer_secret= 'vDXGAzrUI6Ov0C0mfxJmqtZuOHcjfoBV0L20TwoLgkDUmFtJ3A'\n",
    "\n",
    "\n",
    "access_token= '961570034945376256-xjOlKDclOaRSGmywiuJMgkzNO70vLW1'\n",
    "access_token_secret= 'CkKOHMkwbBU6tBdqpggxUkmVQYiygSd4sQ8zjZ5hDu57k'\n"
   ]
  },
  {
   "cell_type": "code",
   "execution_count": 67,
   "metadata": {
    "collapsed": true
   },
   "outputs": [],
   "source": [
    "auth= tweepy.OAuthHandler(consumer_key,consumer_secret)\n",
    "auth.set_access_token(access_token,access_token_secret)"
   ]
  },
  {
   "cell_type": "code",
   "execution_count": 137,
   "metadata": {},
   "outputs": [
    {
     "name": "stdout",
     "output_type": "stream",
     "text": [
      "what subject do you want to analyse?\n",
      "Modi\n"
     ]
    }
   ],
   "source": [
    "# take input for the term we want to analyse the sentiment\n",
    "query = input('what subject do you want to analyse?\\n')\n",
    "api=tweepy.API(auth)\n",
    "public_tweets= api.search(query, result_type= \"recent\")\n"
   ]
  },
  {
   "cell_type": "code",
   "execution_count": 138,
   "metadata": {},
   "outputs": [
    {
     "name": "stdout",
     "output_type": "stream",
     "text": [
      "RT @iChowk_: @sardanarohit की सलाह - सेना को भी दे दीजिए एक महीने की छुट्टी!\n",
      "https://t.co/lIVkcXZbvC\n",
      "#JammuAndKashmir #CeaseFireinKashmir #…\n",
      "Sentiment(polarity=0.0, subjectivity=0.0)\n",
      "RT @idsameer: The Karnataka shot in the arm for Modi https://t.co/9TPgUvApz3 via @FinancialXpress\n",
      "Sentiment(polarity=0.0, subjectivity=0.0)\n",
      "RT @bprerna: Karnataka Governor Who Invited Yeddyurappa To Take Oath Was An RSS Worker, Minister In Modi's Gujarat Cabinet https://t.co/fXX…\n",
      "Sentiment(polarity=0.0, subjectivity=0.0)\n",
      "RT @kpmaurya1: The Cabinet Committee on Economic Affairs chaired by the Hon. Prime Minister, Shri Narendra Modi today has approved an initi…\n",
      "Sentiment(polarity=0.2, subjectivity=0.2)\n",
      "RT @News18India: #Breaking कर्नाटक विवाद:  PM मोदी के लिए राज्यपाल नेे संविधान और लोकतंत्र को किया कुर्बान: सुरजेवाला\n",
      "@rssurjewala\n",
      "\n",
      "https:/…\n",
      "Sentiment(polarity=0.0, subjectivity=0.0)\n",
      "RT @bhatia_niraj23: @RahulGandhi: Narendra Modi ji cannot see the corruption of Chhattisgarh CM .Name of Chief Minister Raman Singh and his…\n",
      "Sentiment(polarity=0.0, subjectivity=0.0)\n",
      "RT @rahulroushan: Man wishes for Modi to be assassinated, and @htTweets says it is 'tweeting against Modi's policy'. Explains why RaGa ment…\n",
      "Sentiment(polarity=0.0, subjectivity=0.0)\n",
      "RT @kpmaurya1: The Cabinet Committee on Economic Affairs chaired by the Hon. Prime Minister, Shri Narendra Modi today has approved an initi…\n",
      "Sentiment(polarity=0.2, subjectivity=0.2)\n",
      "RT @report_real: Modi considers #Chhattisgarh farmers a burden: #RahulGandhi\n",
      "#बदलेगा_छत्तीसगढ़\n",
      "https://t.co/3H1hKDy0sw\n",
      "Sentiment(polarity=0.0, subjectivity=0.0)\n",
      "RT @ARanganathan72: Since it came to power in 2014, this shameless @narendramodi govt has spent three-quarters of a billion dollars on ads.…\n",
      "Sentiment(polarity=-0.1, subjectivity=0.1)\n",
      "RT @sanjivbhatt: We, the people of India, are letting Modi and his band of unscrupulous thugs, treat our country like their personal fiefdo…\n",
      "Sentiment(polarity=0.0, subjectivity=0.3)\n",
      "RT @WordOfTheFree: After calling Modi and Shah North Indian imports, @RahulGandhi's party now exporting their Karnataka MLAs to North India…\n",
      "Sentiment(polarity=0.0, subjectivity=0.0)\n",
      "@htTweets It happened after held only one election, &amp; modi advices to election commission that all election should… https://t.co/3r2M9aRs8a\n",
      "Sentiment(polarity=0.0, subjectivity=1.0)\n",
      "@scroll_in Modi is a loafer\n",
      "Sentiment(polarity=0.0, subjectivity=0.0)\n",
      "RT @JhaSanjay: Internet in the time of Mahabharata. Now Narendra Modi -Amit Shah are proving 104 &gt; 118. #BJPChor100Crore\n",
      "Sentiment(polarity=0.0, subjectivity=0.0)\n"
     ]
    }
   ],
   "source": [
    "with open('sentiment.csv','w') as csvfile:\n",
    "    csvwriter = csv.DictWriter(f= csvfile,fieldnames= ['Tweet','Sentiment'])\n",
    "    csvwriter.writeheader()\n",
    "    for tweet in public_tweets:\n",
    "        print tweet.text\n",
    "        analysis= TextBlob(tweet.text)\n",
    "        print analysis.sentiment\n",
    "        csvwriter.writerow({'Tweet':tweet.text.encode('ascii','ignore'),'Sentiment':analysis.sentiment.polarity})"
   ]
  },
  {
   "cell_type": "code",
   "execution_count": null,
   "metadata": {
    "collapsed": true
   },
   "outputs": [],
   "source": []
  }
 ],
 "metadata": {
  "kernelspec": {
   "display_name": "Python 2",
   "language": "python",
   "name": "python2"
  },
  "language_info": {
   "codemirror_mode": {
    "name": "ipython",
    "version": 2
   },
   "file_extension": ".py",
   "mimetype": "text/x-python",
   "name": "python",
   "nbconvert_exporter": "python",
   "pygments_lexer": "ipython2",
   "version": "2.7.14"
  }
 },
 "nbformat": 4,
 "nbformat_minor": 2
}
